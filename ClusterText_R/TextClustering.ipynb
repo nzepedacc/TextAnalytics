{
 "cells": [
  {
   "cell_type": "markdown",
   "metadata": {},
   "source": [
    "***\n",
    "# Clustering aplicado a Texto\n",
    "***\n",
    "* Workshop Text Analytics AFP Crecer\n",
    "* Mayo 2021\n",
    "* Lenguaje R"
   ]
  },
  {
   "cell_type": "code",
   "execution_count": 2,
   "metadata": {},
   "outputs": [],
   "source": [
    "#Deshabilitando mensajes de Warning en R\n",
    "options(warn=-1)"
   ]
  },
  {
   "cell_type": "markdown",
   "metadata": {},
   "source": [
    "### Instalación de Paquetes"
   ]
  },
  {
   "cell_type": "code",
   "execution_count": 6,
   "metadata": {},
   "outputs": [],
   "source": [
    "#Cargando Librerias\n",
    "options(warn=-1)\n",
    "install.packages('tm')\n",
    "install.packages('proxy')\n",
    "install.packages('ggplot2')\n",
    "install.packages('wordcloud')\n",
    "install.packages(\"ape\")\n",
    "install.packages(\"ggdendro\")"
   ]
  },
  {
   "cell_type": "code",
   "execution_count": 7,
   "metadata": {},
   "outputs": [],
   "source": [
    "options(warn=-1)\n",
    "#TM: Paquete diseñado para el manejo de Corpus, en donde un Corpus es una colección de documentos\n",
    "library('tm')\n",
    "#PROXY: Paquete utilizado para calculos de distancias y similitudes\n",
    "library('proxy')\n",
    "#GGPLOT: Paquete para creación de visualizaciones\n",
    "library('ggplot2')\n",
    "#Paquete para la generación de nubes de palabras\n",
    "library('wordcloud')\n",
    "#Funcion de Ploteo Arboles Filogeneticos (Grafica de relaciones entre terminos)\n",
    "library(\"ape\")\n",
    "#Para manejo de Dendrogramas\n",
    "library(\"ggdendro\")"
   ]
  },
  {
   "cell_type": "markdown",
   "metadata": {},
   "source": [
    "### Cargando Archivo Local"
   ]
  },
  {
   "cell_type": "code",
   "execution_count": 8,
   "metadata": {},
   "outputs": [
    {
     "name": "stdout",
     "output_type": "stream",
     "text": [
      "'data.frame':\t5268 obs. of  13 variables:\n",
      " $ Date        : chr  \"09/17/1908\" \"07/12/1912\" \"08/06/1913\" \"09/09/1913\" ...\n",
      " $ Time        : chr  \"17:18\" \"06:30\" \"\" \"18:30\" ...\n",
      " $ Location    : chr  \"Fort Myer, Virginia\" \"AtlantiCity, New Jersey\" \"Victoria, British Columbia, Canada\" \"Over the North Sea\" ...\n",
      " $ Operator    : chr  \"Military - U.S. Army\" \"Military - U.S. Navy\" \"Private\" \"Military - German Navy\" ...\n",
      " $ Flight..    : chr  \"\" \"\" \"-\" \"\" ...\n",
      " $ Route       : chr  \"Demonstration\" \"Test flight\" \"\" \"\" ...\n",
      " $ Type        : chr  \"Wright Flyer III\" \"Dirigible\" \"Curtiss seaplane\" \"Zeppelin L-1 (airship)\" ...\n",
      " $ Registration: chr  \"\" \"\" \"\" \"\" ...\n",
      " $ cn.In       : chr  \"1\" \"\" \"\" \"\" ...\n",
      " $ Aboard      : int  2 5 1 20 30 41 19 20 22 19 ...\n",
      " $ Fatalities  : int  1 5 1 14 30 21 19 20 22 19 ...\n",
      " $ Ground      : int  0 0 0 0 0 0 0 0 0 0 ...\n",
      " $ Summary     : chr  \"During a demonstration flight, a U.S. Army flyer flown by Orville Wright nose-dived into the ground from a heig\"| __truncated__ \"First U.S. dirigible Akron exploded just offshore at an altitude of 1,000 ft. during a test flight.\" \"The first fatal airplane accident in Canada occurred when American barnstormer, John M. Bryant, California aviator was killed.\" \"The airship flew into a thunderstorm and encountered a severe downdraft crashing 20 miles north of Helgoland Is\"| __truncated__ ...\n"
     ]
    },
    {
     "data": {
      "text/html": [
       "<ol class=list-inline>\n",
       "\t<li>5268</li>\n",
       "\t<li>13</li>\n",
       "</ol>\n"
      ],
      "text/latex": [
       "\\begin{enumerate*}\n",
       "\\item 5268\n",
       "\\item 13\n",
       "\\end{enumerate*}\n"
      ],
      "text/markdown": [
       "1. 5268\n",
       "2. 13\n",
       "\n",
       "\n"
      ],
      "text/plain": [
       "[1] 5268   13"
      ]
     },
     "metadata": {},
     "output_type": "display_data"
    },
    {
     "data": {
      "text/html": [
       "'The first fatal airplane accident in Canada occurred when American barnstormer, John M. Bryant, California aviator was killed.'"
      ],
      "text/latex": [
       "'The first fatal airplane accident in Canada occurred when American barnstormer, John M. Bryant, California aviator was killed.'"
      ],
      "text/markdown": [
       "'The first fatal airplane accident in Canada occurred when American barnstormer, John M. Bryant, California aviator was killed.'"
      ],
      "text/plain": [
       "[1] \"The first fatal airplane accident in Canada occurred when American barnstormer, John M. Bryant, California aviator was killed.\""
      ]
     },
     "metadata": {},
     "output_type": "display_data"
    },
    {
     "data": {
      "text/html": [
       "<span style=white-space:pre-wrap>'While cruising at 1,600 feet off New Jersey, strong air currents droped the ship to 700 feet before leveling off.  Before it could regain a safe height, it plummeted into the AtlantiOcean. Decision by the commander to fly into a storm despite the presence of lightning.'</span>"
      ],
      "text/latex": [
       "'While cruising at 1,600 feet off New Jersey, strong air currents droped the ship to 700 feet before leveling off.  Before it could regain a safe height, it plummeted into the AtlantiOcean. Decision by the commander to fly into a storm despite the presence of lightning.'"
      ],
      "text/markdown": [
       "<span style=white-space:pre-wrap>'While cruising at 1,600 feet off New Jersey, strong air currents droped the ship to 700 feet before leveling off.  Before it could regain a safe height, it plummeted into the AtlantiOcean. Decision by the commander to fly into a storm despite the presence of lightning.'</span>"
      ],
      "text/plain": [
       "[1] \"While cruising at 1,600 feet off New Jersey, strong air currents droped the ship to 700 feet before leveling off.  Before it could regain a safe height, it plummeted into the AtlantiOcean. Decision by the commander to fly into a storm despite the presence of lightning.\""
      ]
     },
     "metadata": {},
     "output_type": "display_data"
    },
    {
     "name": "stdout",
     "output_type": "stream",
     "text": [
      "<<VCorpus>>\n",
      "Metadata:  corpus specific: 0, document level (indexed): 0\n",
      "Content:  documents: 5268\n"
     ]
    },
    {
     "data": {
      "text/plain": [
       "<<VCorpus>>\n",
       "Metadata:  corpus specific: 0, document level (indexed): 0\n",
       "Content:  documents: 5268"
      ]
     },
     "metadata": {},
     "output_type": "display_data"
    }
   ],
   "source": [
    "#Cargando Archivo de Texto\n",
    "ds <- read.csv(\"D:/ClusterText/ac_data.csv\",stringsAsFactors=FALSE)\n",
    "str(ds)\n",
    "dim(ds)\n",
    "\n",
    "#Transformando de Dataframe a Corpus\n",
    "#Vcorpus indica que es un corpus volatil es decir que solamente esta cargado en memoria\n",
    "report <- VCorpus(VectorSource(ds$Summary))\n",
    "report[[3]]$content\n",
    "report[[300]]$content\n",
    "print(report)\n",
    "report"
   ]
  },
  {
   "cell_type": "markdown",
   "metadata": {},
   "source": [
    "### Limpiando nuestro Dataset"
   ]
  },
  {
   "cell_type": "code",
   "execution_count": 9,
   "metadata": {},
   "outputs": [],
   "source": [
    "  #a) Remover signos de puntuación y numeros:\n",
    "  report <- tm_map(report,removePunctuation)\n",
    "  report <- tm_map(report, removeNumbers)  \n",
    "  #b) Convertir todo a minusculas, algunos datos pueden ser KeySensitive\n",
    "  report <- tm_map(report,content_transformer(tolower))\n",
    "  #c) Remove “stopwords” (Palabras vacias o que aparentemente no tienen algun significado considerable):\n",
    "  report <- tm_map(report, removeWords, stopwords(\"english\"))\n",
    "  #d) Multiples espacios en blanco seran colapsados a uno solo:\n",
    "  report <- tm_map(report, stripWhitespace)"
   ]
  },
  {
   "cell_type": "markdown",
   "metadata": {},
   "source": [
    "### Lematizacion:  El lema es la forma que por convenio se acepta como representante de todas las formas flexionadas de una misma palabra."
   ]
  },
  {
   "cell_type": "code",
   "execution_count": 10,
   "metadata": {},
   "outputs": [],
   "source": [
    "report <- read.csv(\"D:/ClusterText/report_lemma.csv\",stringsAsFactors=FALSE)\n",
    "report <- VCorpus(VectorSource(report$Summary))"
   ]
  },
  {
   "cell_type": "code",
   "execution_count": 11,
   "metadata": {},
   "outputs": [],
   "source": [
    "#Estructurando la data por medio de una matriz: document-terms matrix\n",
    "dtm <- DocumentTermMatrix(report)"
   ]
  },
  {
   "cell_type": "code",
   "execution_count": 12,
   "metadata": {},
   "outputs": [
    {
     "name": "stdout",
     "output_type": "stream",
     "text": [
      " Named num [1:7823] 1 1 1 15 3 2 2 1 1 1 ...\n",
      " - attr(*, \"names\")= chr [1:7823] \"aad\" \"aaliyah\" \"ababa\" \"abandon\" ...\n"
     ]
    },
    {
     "data": {
      "text/html": [
       "<ol class=list-inline>\n",
       "\t<li>'aad'</li>\n",
       "\t<li>'aaliyah'</li>\n",
       "\t<li>'ababa'</li>\n",
       "\t<li>'abandon'</li>\n",
       "\t<li>'abandonment'</li>\n",
       "\t<li>'abatement'</li>\n",
       "</ol>\n"
      ],
      "text/latex": [
       "\\begin{enumerate*}\n",
       "\\item 'aad'\n",
       "\\item 'aaliyah'\n",
       "\\item 'ababa'\n",
       "\\item 'abandon'\n",
       "\\item 'abandonment'\n",
       "\\item 'abatement'\n",
       "\\end{enumerate*}\n"
      ],
      "text/markdown": [
       "1. 'aad'\n",
       "2. 'aaliyah'\n",
       "3. 'ababa'\n",
       "4. 'abandon'\n",
       "5. 'abandonment'\n",
       "6. 'abatement'\n",
       "\n",
       "\n"
      ],
      "text/plain": [
       "[1] \"aad\"         \"aaliyah\"     \"ababa\"       \"abandon\"     \"abandonment\"\n",
       "[6] \"abatement\"  "
      ]
     },
     "metadata": {},
     "output_type": "display_data"
    },
    {
     "data": {
      "text/html": [
       "<dl class=dl-horizontal>\n",
       "\t<dt>aad</dt>\n",
       "\t\t<dd>1</dd>\n",
       "\t<dt>aaliyah</dt>\n",
       "\t\t<dd>1</dd>\n",
       "\t<dt>ababa</dt>\n",
       "\t\t<dd>1</dd>\n",
       "\t<dt>abandon</dt>\n",
       "\t\t<dd>15</dd>\n",
       "\t<dt>abandonment</dt>\n",
       "\t\t<dd>3</dd>\n",
       "\t<dt>abatement</dt>\n",
       "\t\t<dd>2</dd>\n",
       "</dl>\n"
      ],
      "text/latex": [
       "\\begin{description*}\n",
       "\\item[aad] 1\n",
       "\\item[aaliyah] 1\n",
       "\\item[ababa] 1\n",
       "\\item[abandon] 15\n",
       "\\item[abandonment] 3\n",
       "\\item[abatement] 2\n",
       "\\end{description*}\n"
      ],
      "text/markdown": [
       "aad\n",
       ":   1aaliyah\n",
       ":   1ababa\n",
       ":   1abandon\n",
       ":   15abandonment\n",
       ":   3abatement\n",
       ":   2\n",
       "\n"
      ],
      "text/plain": [
       "        aad     aaliyah       ababa     abandon abandonment   abatement \n",
       "          1           1           1          15           3           2 "
      ]
     },
     "metadata": {},
     "output_type": "display_data"
    }
   ],
   "source": [
    "#Identificando la frecuencia de cada termino\n",
    "freq <- colSums(as.matrix(dtm)) \n",
    "str(freq)\n",
    "head(names(freq))\n",
    "head(freq)"
   ]
  },
  {
   "cell_type": "code",
   "execution_count": 13,
   "metadata": {},
   "outputs": [
    {
     "name": "stdout",
     "output_type": "stream",
     "text": [
      "'data.frame':\t7823 obs. of  2 variables:\n",
      " $ word: Factor w/ 7823 levels \"aad\",\"aaliyah\",..: 1 2 3 4 5 6 7 8 9 10 ...\n",
      " $ freq: num  1 1 1 15 3 2 2 1 1 1 ...\n"
     ]
    },
    {
     "data": {
      "text/html": [
       "<table>\n",
       "<thead><tr><th></th><th scope=col>word</th><th scope=col>freq</th></tr></thead>\n",
       "<tbody>\n",
       "\t<tr><th scope=row>aad</th><td>aad        </td><td> 1         </td></tr>\n",
       "\t<tr><th scope=row>aaliyah</th><td>aaliyah    </td><td> 1         </td></tr>\n",
       "\t<tr><th scope=row>ababa</th><td>ababa      </td><td> 1         </td></tr>\n",
       "\t<tr><th scope=row>abandon</th><td>abandon    </td><td>15         </td></tr>\n",
       "\t<tr><th scope=row>abandonment</th><td>abandonment</td><td> 3         </td></tr>\n",
       "\t<tr><th scope=row>abatement</th><td>abatement  </td><td> 2         </td></tr>\n",
       "</tbody>\n",
       "</table>\n"
      ],
      "text/latex": [
       "\\begin{tabular}{r|ll}\n",
       "  & word & freq\\\\\n",
       "\\hline\n",
       "\taad & aad         &  1         \\\\\n",
       "\taaliyah & aaliyah     &  1         \\\\\n",
       "\tababa & ababa       &  1         \\\\\n",
       "\tabandon & abandon     & 15         \\\\\n",
       "\tabandonment & abandonment &  3         \\\\\n",
       "\tabatement & abatement   &  2         \\\\\n",
       "\\end{tabular}\n"
      ],
      "text/markdown": [
       "\n",
       "| <!--/--> | word | freq |\n",
       "|---|---|---|\n",
       "| aad | aad         |  1          |\n",
       "| aaliyah | aaliyah     |  1          |\n",
       "| ababa | ababa       |  1          |\n",
       "| abandon | abandon     | 15          |\n",
       "| abandonment | abandonment |  3          |\n",
       "| abatement | abatement   |  2          |\n",
       "\n"
      ],
      "text/plain": [
       "            word        freq\n",
       "aad         aad          1  \n",
       "aaliyah     aaliyah      1  \n",
       "ababa       ababa        1  \n",
       "abandon     abandon     15  \n",
       "abandonment abandonment  3  \n",
       "abatement   abatement    2  "
      ]
     },
     "metadata": {},
     "output_type": "display_data"
    }
   ],
   "source": [
    "wf <- data.frame(word=names(freq),freq=freq)\n",
    "str(wf)\n",
    "head(wf)"
   ]
  },
  {
   "cell_type": "code",
   "execution_count": 14,
   "metadata": {},
   "outputs": [],
   "source": [
    "#Removiendo Terminos irrelevantes\n",
    "dtm <- DocumentTermMatrix(report,control=list(stopwords=c(\"aircraft\",\"plane\",\"crash\",\"one\",\"two\",\"cause\",\"make\",\"kill\",\"result\",\"continue\",\"contribute\",\"take\",\"flight\",\"right\",\"due\",\"lead\",\"factor\",\"minute\",\"leave\")))"
   ]
  },
  {
   "cell_type": "markdown",
   "metadata": {},
   "source": [
    "### Sparsity: Ejemplo: Asumamos que hay 1000 documentos y que una palabra aparece 5 veces, la sparsity (dispersión) sera: 1-(5/1000)=1-0.005=0.995=99.5%\n",
    "### si el umbral de dispersión se establece en 0,90 este término se eliminará ya que su escasez (0,995) es mayor que el límite superior de escasez (0,90)."
   ]
  },
  {
   "cell_type": "code",
   "execution_count": 15,
   "metadata": {},
   "outputs": [],
   "source": [
    "dtms <- removeSparseTerms(dtm, 0.96)\n",
    "freq <- colSums(as.matrix(dtms)) \n",
    "wf <- data.frame(word=names(freq),freq=freq)"
   ]
  },
  {
   "cell_type": "code",
   "execution_count": 16,
   "metadata": {},
   "outputs": [
    {
     "data": {
      "image/png": "[encoded data removed]",
      "text/plain": [
       "plot without title"
      ]
     },
     "metadata": {},
     "output_type": "display_data"
    }
   ],
   "source": [
    "#Construyendo el grafico\n",
    "p <- ggplot(subset(wf),aes(word, freq))    \n",
    "p <- p + geom_bar(stat=\"identity\")   \n",
    "p <- p + theme(axis.text.x=element_text(angle=45, hjust=1))   \n",
    "p"
   ]
  },
  {
   "cell_type": "code",
   "execution_count": 17,
   "metadata": {},
   "outputs": [
    {
     "data": {
      "image/png": "[encoded data removed]",
      "text/plain": [
       "plot without title"
      ]
     },
     "metadata": {},
     "output_type": "display_data"
    }
   ],
   "source": [
    "#Creando la nube de palabras\n",
    "wordcloud(names(freq),freq,scale=c(5,0.1),colors=brewer.pal(6,\"Dark2\")) "
   ]
  },
  {
   "cell_type": "markdown",
   "metadata": {},
   "source": [
    "***\n",
    "### Clusterizacion basada en la similitud de los terminos\n",
    "***"
   ]
  },
  {
   "cell_type": "code",
   "execution_count": 18,
   "metadata": {},
   "outputs": [],
   "source": [
    "#Construyendo Matriz de Distancias\n",
    "#La distancia de Jaccard mide la disimilitud entre dos conjuntos de muestras y se define como el complemento del coeficiente de Jaccard\n",
    "dtms[dtms > 1] <- 1"
   ]
  },
  {
   "cell_type": "code",
   "execution_count": 19,
   "metadata": {},
   "outputs": [],
   "source": [
    "dtms <- as.matrix(dtms)\n",
    "d <- dist(t(dtms), method = \"Jaccard\")"
   ]
  },
  {
   "cell_type": "markdown",
   "metadata": {},
   "source": [
    "### Tecnica Aglomerativa de Clustering,es un acercamiento ascendente: cada observación comienza en su propio grupo, y los pares de grupos son mezclados mientras uno sube en la jerarquía.\n",
    "### Él Método de Ward es un criterio aplicado al Análisis de clúster jerárquico (Criterio de Varianza Mínima)."
   ]
  },
  {
   "cell_type": "code",
   "execution_count": 20,
   "metadata": {},
   "outputs": [],
   "source": [
    "hc <- hclust(d,method=\"ward.D\")"
   ]
  },
  {
   "cell_type": "code",
   "execution_count": 21,
   "metadata": {},
   "outputs": [
    {
     "data": {
      "image/png": "[encoded data removed]",
      "text/plain": [
       "Plot with title \"Cluster Dendrogram\""
      ]
     },
     "metadata": {},
     "output_type": "display_data"
    }
   ],
   "source": [
    "#Visualizando los clusters en 12 grupos\n",
    "plot(hc,hang=-1)\n",
    "rect.hclust(hc,k=12,border=2:4)"
   ]
  },
  {
   "cell_type": "code",
   "execution_count": 23,
   "metadata": {},
   "outputs": [
    {
     "data": {
      "image/png": "[encoded data removed]",
      "text/plain": [
       "plot without title"
      ]
     },
     "metadata": {},
     "output_type": "display_data"
    }
   ],
   "source": [
    "plot(as.phylo(hc), type = \"unrooted\", cex = 0.6, no.margin = TRUE)"
   ]
  },
  {
   "cell_type": "code",
   "execution_count": 24,
   "metadata": {},
   "outputs": [
    {
     "data": {
      "image/png": "[encoded data removed]",
      "text/plain": [
       "plot without title"
      ]
     },
     "metadata": {},
     "output_type": "display_data"
    }
   ],
   "source": [
    "plot(as.phylo(hc), type = \"fan\")"
   ]
  },
  {
   "cell_type": "code",
   "execution_count": 25,
   "metadata": {},
   "outputs": [
    {
     "data": {
      "image/png": "[encoded data removed]",
      "text/plain": [
       "plot without title"
      ]
     },
     "metadata": {},
     "output_type": "display_data"
    }
   ],
   "source": [
    "colors = c(\"red\", \"blue\", \"green\", \"black\")\n",
    "clus4 = cutree(hc, 4)\n",
    "plot(as.phylo(hc), type = \"fan\", tip.color = colors[clus4], label.offset = 0, cex = 0.7)"
   ]
  },
  {
   "cell_type": "code",
   "execution_count": 26,
   "metadata": {},
   "outputs": [],
   "source": [
    "dend <- as.dendrogram(hc)"
   ]
  },
  {
   "cell_type": "code",
   "execution_count": 27,
   "metadata": {},
   "outputs": [],
   "source": [
    "dend_data <- dendro_data(dend, type = \"rectangle\")"
   ]
  },
  {
   "cell_type": "code",
   "execution_count": 28,
   "metadata": {},
   "outputs": [
    {
     "data": {
      "image/png": "[encoded data removed]",
      "text/plain": [
       "plot without title"
      ]
     },
     "metadata": {},
     "output_type": "display_data"
    }
   ],
   "source": [
    "ggdendrogram(hc)"
   ]
  },
  {
   "cell_type": "code",
   "execution_count": 29,
   "metadata": {},
   "outputs": [
    {
     "data": {
      "text/html": [
       "<table>\n",
       "<thead><tr><th scope=col>x</th><th scope=col>y</th><th scope=col>xend</th><th scope=col>yend</th></tr></thead>\n",
       "<tbody>\n",
       "\t<tr><td>12.38477 </td><td>1.4668635</td><td>1.875    </td><td>1.4668635</td></tr>\n",
       "\t<tr><td> 1.87500 </td><td>1.4668635</td><td>1.875    </td><td>0.8921985</td></tr>\n",
       "\t<tr><td> 1.87500 </td><td>0.8921985</td><td>1.000    </td><td>0.8921985</td></tr>\n",
       "\t<tr><td> 1.00000 </td><td>0.8921985</td><td>1.000    </td><td>0.0000000</td></tr>\n",
       "\t<tr><td> 1.87500 </td><td>0.8921985</td><td>2.750    </td><td>0.8921985</td></tr>\n",
       "\t<tr><td> 2.75000 </td><td>0.8921985</td><td>2.750    </td><td>0.8117501</td></tr>\n",
       "</tbody>\n",
       "</table>\n"
      ],
      "text/latex": [
       "\\begin{tabular}{r|llll}\n",
       " x & y & xend & yend\\\\\n",
       "\\hline\n",
       "\t 12.38477  & 1.4668635 & 1.875     & 1.4668635\\\\\n",
       "\t  1.87500  & 1.4668635 & 1.875     & 0.8921985\\\\\n",
       "\t  1.87500  & 0.8921985 & 1.000     & 0.8921985\\\\\n",
       "\t  1.00000  & 0.8921985 & 1.000     & 0.0000000\\\\\n",
       "\t  1.87500  & 0.8921985 & 2.750     & 0.8921985\\\\\n",
       "\t  2.75000  & 0.8921985 & 2.750     & 0.8117501\\\\\n",
       "\\end{tabular}\n"
      ],
      "text/markdown": [
       "\n",
       "| x | y | xend | yend |\n",
       "|---|---|---|---|\n",
       "| 12.38477  | 1.4668635 | 1.875     | 1.4668635 |\n",
       "|  1.87500  | 1.4668635 | 1.875     | 0.8921985 |\n",
       "|  1.87500  | 0.8921985 | 1.000     | 0.8921985 |\n",
       "|  1.00000  | 0.8921985 | 1.000     | 0.0000000 |\n",
       "|  1.87500  | 0.8921985 | 2.750     | 0.8921985 |\n",
       "|  2.75000  | 0.8921985 | 2.750     | 0.8117501 |\n",
       "\n"
      ],
      "text/plain": [
       "  x        y         xend  yend     \n",
       "1 12.38477 1.4668635 1.875 1.4668635\n",
       "2  1.87500 1.4668635 1.875 0.8921985\n",
       "3  1.87500 0.8921985 1.000 0.8921985\n",
       "4  1.00000 0.8921985 1.000 0.0000000\n",
       "5  1.87500 0.8921985 2.750 0.8921985\n",
       "6  2.75000 0.8921985 2.750 0.8117501"
      ]
     },
     "metadata": {},
     "output_type": "display_data"
    }
   ],
   "source": [
    "head(dend_data$segments)"
   ]
  },
  {
   "cell_type": "code",
   "execution_count": 30,
   "metadata": {},
   "outputs": [
    {
     "data": {
      "text/html": [
       "<table>\n",
       "<thead><tr><th scope=col>x</th><th scope=col>y</th><th scope=col>label</th></tr></thead>\n",
       "<tbody>\n",
       "\t<tr><td>1        </td><td>0        </td><td>vfr      </td></tr>\n",
       "\t<tr><td>2        </td><td>0        </td><td>poor     </td></tr>\n",
       "\t<tr><td>3        </td><td>0        </td><td>condition</td></tr>\n",
       "\t<tr><td>4        </td><td>0        </td><td>weather  </td></tr>\n",
       "\t<tr><td>5        </td><td>0        </td><td>control  </td></tr>\n",
       "\t<tr><td>6        </td><td>0        </td><td>loss     </td></tr>\n",
       "</tbody>\n",
       "</table>\n"
      ],
      "text/latex": [
       "\\begin{tabular}{r|lll}\n",
       " x & y & label\\\\\n",
       "\\hline\n",
       "\t 1         & 0         & vfr      \\\\\n",
       "\t 2         & 0         & poor     \\\\\n",
       "\t 3         & 0         & condition\\\\\n",
       "\t 4         & 0         & weather  \\\\\n",
       "\t 5         & 0         & control  \\\\\n",
       "\t 6         & 0         & loss     \\\\\n",
       "\\end{tabular}\n"
      ],
      "text/markdown": [
       "\n",
       "| x | y | label |\n",
       "|---|---|---|\n",
       "| 1         | 0         | vfr       |\n",
       "| 2         | 0         | poor      |\n",
       "| 3         | 0         | condition |\n",
       "| 4         | 0         | weather   |\n",
       "| 5         | 0         | control   |\n",
       "| 6         | 0         | loss      |\n",
       "\n"
      ],
      "text/plain": [
       "  x y label    \n",
       "1 1 0 vfr      \n",
       "2 2 0 poor     \n",
       "3 3 0 condition\n",
       "4 4 0 weather  \n",
       "5 5 0 control  \n",
       "6 6 0 loss     "
      ]
     },
     "metadata": {},
     "output_type": "display_data"
    }
   ],
   "source": [
    "head(dend_data$labels)"
   ]
  },
  {
   "cell_type": "markdown",
   "metadata": {},
   "source": [
    "### Visualizando Correlaciones entre las palabras"
   ]
  },
  {
   "cell_type": "code",
   "execution_count": 31,
   "metadata": {},
   "outputs": [
    {
     "data": {
      "text/html": [
       "<strong>$weather</strong> = <dl class=dl-horizontal>\n",
       "\t<dt>adverse</dt>\n",
       "\t\t<dd>0.53</dd>\n",
       "\t<dt>condition</dt>\n",
       "\t\t<dd>0.51</dd>\n",
       "\t<dt>poor</dt>\n",
       "\t\t<dd>0.41</dd>\n",
       "\t<dt>vfr</dt>\n",
       "\t\t<dd>0.33</dd>\n",
       "\t<dt>deteriorate</dt>\n",
       "\t\t<dd>0.25</dd>\n",
       "\t<dt>bad</dt>\n",
       "\t\t<dd>0.19</dd>\n",
       "\t<dt>pilot</dt>\n",
       "\t\t<dd>0.17</dd>\n",
       "\t<dt>fly</dt>\n",
       "\t\t<dd>0.15</dd>\n",
       "\t<dt>marginal</dt>\n",
       "\t\t<dd>0.14</dd>\n",
       "\t<dt>decision</dt>\n",
       "\t\t<dd>0.13</dd>\n",
       "\t<dt>improve</dt>\n",
       "\t\t<dd>0.13</dd>\n",
       "\t<dt>predict</dt>\n",
       "\t\t<dd>0.13</dd>\n",
       "\t<dt>worse</dt>\n",
       "\t\t<dd>0.13</dd>\n",
       "\t<dt>dissipating</dt>\n",
       "\t\t<dd>0.11</dd>\n",
       "\t<dt>genoa</dt>\n",
       "\t\t<dd>0.11</dd>\n",
       "\t<dt>laramie</dt>\n",
       "\t\t<dd>0.11</dd>\n",
       "\t<dt>dangerously</dt>\n",
       "\t\t<dd>0.1</dd>\n",
       "\t<dt>disorientation</dt>\n",
       "\t\t<dd>0.1</dd>\n",
       "\t<dt>reception</dt>\n",
       "\t\t<dd>0.1</dd>\n",
       "\t<dt>unintelligible</dt>\n",
       "\t\t<dd>0.1</dd>\n",
       "</dl>\n"
      ],
      "text/latex": [
       "\\textbf{\\$weather} = \\begin{description*}\n",
       "\\item[adverse] 0.53\n",
       "\\item[condition] 0.51\n",
       "\\item[poor] 0.41\n",
       "\\item[vfr] 0.33\n",
       "\\item[deteriorate] 0.25\n",
       "\\item[bad] 0.19\n",
       "\\item[pilot] 0.17\n",
       "\\item[fly] 0.15\n",
       "\\item[marginal] 0.14\n",
       "\\item[decision] 0.13\n",
       "\\item[improve] 0.13\n",
       "\\item[predict] 0.13\n",
       "\\item[worse] 0.13\n",
       "\\item[dissipating] 0.11\n",
       "\\item[genoa] 0.11\n",
       "\\item[laramie] 0.11\n",
       "\\item[dangerously] 0.1\n",
       "\\item[disorientation] 0.1\n",
       "\\item[reception] 0.1\n",
       "\\item[unintelligible] 0.1\n",
       "\\end{description*}\n"
      ],
      "text/markdown": [
       "**$weather** = adverse\n",
       ":   0.53condition\n",
       ":   0.51poor\n",
       ":   0.41vfr\n",
       ":   0.33deteriorate\n",
       ":   0.25bad\n",
       ":   0.19pilot\n",
       ":   0.17fly\n",
       ":   0.15marginal\n",
       ":   0.14decision\n",
       ":   0.13improve\n",
       ":   0.13predict\n",
       ":   0.13worse\n",
       ":   0.13dissipating\n",
       ":   0.11genoa\n",
       ":   0.11laramie\n",
       ":   0.11dangerously\n",
       ":   0.1disorientation\n",
       ":   0.1reception\n",
       ":   0.1unintelligible\n",
       ":   0.1\n",
       "\n"
      ],
      "text/plain": [
       "$weather\n",
       "       adverse      condition           poor            vfr    deteriorate \n",
       "          0.53           0.51           0.41           0.33           0.25 \n",
       "           bad          pilot            fly       marginal       decision \n",
       "          0.19           0.17           0.15           0.14           0.13 \n",
       "       improve        predict          worse    dissipating          genoa \n",
       "          0.13           0.13           0.13           0.11           0.11 \n",
       "       laramie    dangerously disorientation      reception unintelligible \n",
       "          0.11           0.10           0.10           0.10           0.10 \n"
      ]
     },
     "metadata": {},
     "output_type": "display_data"
    }
   ],
   "source": [
    "findAssocs(dtm,\"weather\",corlimit=0.1)"
   ]
  },
  {
   "cell_type": "code",
   "execution_count": 32,
   "metadata": {},
   "outputs": [
    {
     "data": {
      "text/html": [
       "<strong>$sea</strong> = <dl class=dl-horizontal>\n",
       "\t<dt>ditch</dt>\n",
       "\t\t<dd>0.14</dd>\n",
       "\t<dt>acme</dt>\n",
       "\t\t<dd>0.13</dd>\n",
       "\t<dt>catastrophieffect</dt>\n",
       "\t\t<dd>0.13</dd>\n",
       "\t<dt>columnist</dt>\n",
       "\t\t<dd>0.13</dd>\n",
       "\t<dt>cynthia</dt>\n",
       "\t\t<dd>0.13</dd>\n",
       "\t<dt>financial</dt>\n",
       "\t\t<dd>0.13</dd>\n",
       "\t<dt>firewall</dt>\n",
       "\t\t<dd>0.13</dd>\n",
       "\t<dt>forshee</dt>\n",
       "\t\t<dd>0.13</dd>\n",
       "\t<dt>gandesberry</dt>\n",
       "\t\t<dd>0.13</dd>\n",
       "\t<dt>host</dt>\n",
       "\t\t<dd>0.13</dd>\n",
       "\t<dt>interval</dt>\n",
       "\t\t<dd>0.13</dd>\n",
       "\t<dt>jackscrew</dt>\n",
       "\t\t<dd>0.13</dd>\n",
       "\t<dt>mugu</dt>\n",
       "\t\t<dd>0.13</dd>\n",
       "\t<dt>oti</dt>\n",
       "\t\t<dd>0.13</dd>\n",
       "\t<dt>oversped</dt>\n",
       "\t\t<dd>0.13</dd>\n",
       "\t<dt>stockley</dt>\n",
       "\t\t<dd>0.13</dd>\n",
       "\t<dt>thread</dt>\n",
       "\t\t<dd>0.13</dd>\n",
       "\t<dt>vallarta</dt>\n",
       "\t\t<dd>0.13</dd>\n",
       "\t<dt>alaska</dt>\n",
       "\t\t<dd>0.12</dd>\n",
       "\t<dt>lubrication</dt>\n",
       "\t\t<dd>0.12</dd>\n",
       "\t<dt>mediterranean</dt>\n",
       "\t\t<dd>0.12</dd>\n",
       "\t<dt>rig</dt>\n",
       "\t\t<dd>0.12</dd>\n",
       "\t<dt>wear</dt>\n",
       "\t\t<dd>0.12</dd>\n",
       "\t<dt>ireland</dt>\n",
       "\t\t<dd>0.11</dd>\n",
       "\t<dt>shore</dt>\n",
       "\t\t<dd>0.11</dd>\n",
       "\t<dt>tom</dt>\n",
       "\t\t<dd>0.11</dd>\n",
       "\t<dt>approval</dt>\n",
       "\t\t<dd>0.1</dd>\n",
       "</dl>\n"
      ],
      "text/latex": [
       "\\textbf{\\$sea} = \\begin{description*}\n",
       "\\item[ditch] 0.14\n",
       "\\item[acme] 0.13\n",
       "\\item[catastrophieffect] 0.13\n",
       "\\item[columnist] 0.13\n",
       "\\item[cynthia] 0.13\n",
       "\\item[financial] 0.13\n",
       "\\item[firewall] 0.13\n",
       "\\item[forshee] 0.13\n",
       "\\item[gandesberry] 0.13\n",
       "\\item[host] 0.13\n",
       "\\item[interval] 0.13\n",
       "\\item[jackscrew] 0.13\n",
       "\\item[mugu] 0.13\n",
       "\\item[oti] 0.13\n",
       "\\item[oversped] 0.13\n",
       "\\item[stockley] 0.13\n",
       "\\item[thread] 0.13\n",
       "\\item[vallarta] 0.13\n",
       "\\item[alaska] 0.12\n",
       "\\item[lubrication] 0.12\n",
       "\\item[mediterranean] 0.12\n",
       "\\item[rig] 0.12\n",
       "\\item[wear] 0.12\n",
       "\\item[ireland] 0.11\n",
       "\\item[shore] 0.11\n",
       "\\item[tom] 0.11\n",
       "\\item[approval] 0.1\n",
       "\\end{description*}\n"
      ],
      "text/markdown": [
       "**$sea** = ditch\n",
       ":   0.14acme\n",
       ":   0.13catastrophieffect\n",
       ":   0.13columnist\n",
       ":   0.13cynthia\n",
       ":   0.13financial\n",
       ":   0.13firewall\n",
       ":   0.13forshee\n",
       ":   0.13gandesberry\n",
       ":   0.13host\n",
       ":   0.13interval\n",
       ":   0.13jackscrew\n",
       ":   0.13mugu\n",
       ":   0.13oti\n",
       ":   0.13oversped\n",
       ":   0.13stockley\n",
       ":   0.13thread\n",
       ":   0.13vallarta\n",
       ":   0.13alaska\n",
       ":   0.12lubrication\n",
       ":   0.12mediterranean\n",
       ":   0.12rig\n",
       ":   0.12wear\n",
       ":   0.12ireland\n",
       ":   0.11shore\n",
       ":   0.11tom\n",
       ":   0.11approval\n",
       ":   0.1\n",
       "\n"
      ],
      "text/plain": [
       "$sea\n",
       "            ditch              acme catastrophieffect         columnist \n",
       "             0.14              0.13              0.13              0.13 \n",
       "          cynthia         financial          firewall           forshee \n",
       "             0.13              0.13              0.13              0.13 \n",
       "      gandesberry              host          interval         jackscrew \n",
       "             0.13              0.13              0.13              0.13 \n",
       "             mugu               oti          oversped          stockley \n",
       "             0.13              0.13              0.13              0.13 \n",
       "           thread          vallarta            alaska       lubrication \n",
       "             0.13              0.13              0.12              0.12 \n",
       "    mediterranean               rig              wear           ireland \n",
       "             0.12              0.12              0.12              0.11 \n",
       "            shore               tom          approval \n",
       "             0.11              0.11              0.10 \n"
      ]
     },
     "metadata": {},
     "output_type": "display_data"
    }
   ],
   "source": [
    "findAssocs(dtm,\"sea\",corlimit=0.1)"
   ]
  },
  {
   "cell_type": "code",
   "execution_count": 33,
   "metadata": {},
   "outputs": [
    {
     "data": {
      "text/html": [
       "<strong>$fog</strong> = <dl class=dl-horizontal>\n",
       "\t<dt>dense</dt>\n",
       "\t\t<dd>0.21</dd>\n",
       "\t<dt>heavy</dt>\n",
       "\t\t<dd>0.18</dd>\n",
       "\t<dt>overlying</dt>\n",
       "\t\t<dd>0.15</dd>\n",
       "\t<dt>rain</dt>\n",
       "\t\t<dd>0.15</dd>\n",
       "\t<dt>visibility</dt>\n",
       "\t\t<dd>0.12</dd>\n",
       "\t<dt>antao</dt>\n",
       "\t\t<dd>0.11</dd>\n",
       "\t<dt>blues</dt>\n",
       "\t\t<dd>0.11</dd>\n",
       "\t<dt>breakoff</dt>\n",
       "\t\t<dd>0.11</dd>\n",
       "\t<dt>carve</dt>\n",
       "\t\t<dd>0.11</dd>\n",
       "\t<dt>concert</dt>\n",
       "\t\t<dd>0.11</dd>\n",
       "\t<dt>emerge</dt>\n",
       "\t\t<dd>0.11</dd>\n",
       "\t<dt>glaciercovered</dt>\n",
       "\t\t<dd>0.11</dd>\n",
       "\t<dt>question</dt>\n",
       "\t\t<dd>0.11</dd>\n",
       "\t<dt>ray</dt>\n",
       "\t\t<dd>0.11</dd>\n",
       "\t<dt>sol</dt>\n",
       "\t\t<dd>0.11</dd>\n",
       "\t<dt>terminate</dt>\n",
       "\t\t<dd>0.11</dd>\n",
       "\t<dt>unrecognized</dt>\n",
       "\t\t<dd>0.11</dd>\n",
       "\t<dt>vaughan</dt>\n",
       "\t\t<dd>0.11</dd>\n",
       "\t<dt>verde</dt>\n",
       "\t\t<dd>0.11</dd>\n",
       "\t<dt>vicente</dt>\n",
       "\t\t<dd>0.11</dd>\n",
       "\t<dt>wsw</dt>\n",
       "\t\t<dd>0.11</dd>\n",
       "</dl>\n"
      ],
      "text/latex": [
       "\\textbf{\\$fog} = \\begin{description*}\n",
       "\\item[dense] 0.21\n",
       "\\item[heavy] 0.18\n",
       "\\item[overlying] 0.15\n",
       "\\item[rain] 0.15\n",
       "\\item[visibility] 0.12\n",
       "\\item[antao] 0.11\n",
       "\\item[blues] 0.11\n",
       "\\item[breakoff] 0.11\n",
       "\\item[carve] 0.11\n",
       "\\item[concert] 0.11\n",
       "\\item[emerge] 0.11\n",
       "\\item[glaciercovered] 0.11\n",
       "\\item[question] 0.11\n",
       "\\item[ray] 0.11\n",
       "\\item[sol] 0.11\n",
       "\\item[terminate] 0.11\n",
       "\\item[unrecognized] 0.11\n",
       "\\item[vaughan] 0.11\n",
       "\\item[verde] 0.11\n",
       "\\item[vicente] 0.11\n",
       "\\item[wsw] 0.11\n",
       "\\end{description*}\n"
      ],
      "text/markdown": [
       "**$fog** = dense\n",
       ":   0.21heavy\n",
       ":   0.18overlying\n",
       ":   0.15rain\n",
       ":   0.15visibility\n",
       ":   0.12antao\n",
       ":   0.11blues\n",
       ":   0.11breakoff\n",
       ":   0.11carve\n",
       ":   0.11concert\n",
       ":   0.11emerge\n",
       ":   0.11glaciercovered\n",
       ":   0.11question\n",
       ":   0.11ray\n",
       ":   0.11sol\n",
       ":   0.11terminate\n",
       ":   0.11unrecognized\n",
       ":   0.11vaughan\n",
       ":   0.11verde\n",
       ":   0.11vicente\n",
       ":   0.11wsw\n",
       ":   0.11\n",
       "\n"
      ],
      "text/plain": [
       "$fog\n",
       "         dense          heavy      overlying           rain     visibility \n",
       "          0.21           0.18           0.15           0.15           0.12 \n",
       "         antao          blues       breakoff          carve        concert \n",
       "          0.11           0.11           0.11           0.11           0.11 \n",
       "        emerge glaciercovered       question            ray            sol \n",
       "          0.11           0.11           0.11           0.11           0.11 \n",
       "     terminate   unrecognized        vaughan          verde        vicente \n",
       "          0.11           0.11           0.11           0.11           0.11 \n",
       "           wsw \n",
       "          0.11 \n"
      ]
     },
     "metadata": {},
     "output_type": "display_data"
    }
   ],
   "source": [
    "findAssocs(dtm,\"fog\",corlimit=0.1)"
   ]
  }
 ],
 "metadata": {
  "kernelspec": {
   "display_name": "R",
   "language": "R",
   "name": "ir"
  },
  "language_info": {
   "codemirror_mode": "r",
   "file_extension": ".r",
   "mimetype": "text/x-r-source",
   "name": "R",
   "pygments_lexer": "r",
   "version": "3.6.1"
  }
 },
 "nbformat": 4,
 "nbformat_minor": 2
}
